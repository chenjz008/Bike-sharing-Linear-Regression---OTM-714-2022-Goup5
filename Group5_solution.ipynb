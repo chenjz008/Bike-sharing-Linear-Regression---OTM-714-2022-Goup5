{
 "cells": [
  {
   "cell_type": "markdown",
   "id": "81a5688d",
   "metadata": {
    "papermill": {
     "duration": 0.136729,
     "end_time": "2022-03-24T17:52:46.664347",
     "exception": false,
     "start_time": "2022-03-24T17:52:46.527618",
     "status": "completed"
    },
    "tags": []
   },
   "source": [
    "# Bike sharing (Linear Regression) - OTM 714 2022"
   ]
  },
  {
   "cell_type": "markdown",
   "id": "2c635c93",
   "metadata": {
    "papermill": {
     "duration": 0.132208,
     "end_time": "2022-03-24T17:52:46.929554",
     "exception": false,
     "start_time": "2022-03-24T17:52:46.797346",
     "status": "completed"
    },
    "tags": []
   },
   "source": [
    "## Load the datasets"
   ]
  },
  {
   "cell_type": "code",
   "execution_count": 1,
   "id": "0565e4cc",
   "metadata": {
    "execution": {
     "iopub.execute_input": "2022-03-24T17:52:47.204905Z",
     "iopub.status.busy": "2022-03-24T17:52:47.201855Z",
     "iopub.status.idle": "2022-03-24T17:52:47.417931Z",
     "shell.execute_reply": "2022-03-24T17:52:47.416387Z"
    },
    "papermill": {
     "duration": 0.352297,
     "end_time": "2022-03-24T17:52:47.418111",
     "exception": false,
     "start_time": "2022-03-24T17:52:47.065814",
     "status": "completed"
    },
    "tags": []
   },
   "outputs": [],
   "source": [
    "df = read.csv('../input/new-corrected-bike-sharing-otm-714-2022/bike sharing training for students.csv')\n",
    "for_predict = read.csv('../input/new-corrected-bike-sharing-otm-714-2022/bike sharing test for students.csv')\n",
    "to_submit = read.csv('../input/new-corrected-bike-sharing-otm-714-2022/bike sharing sample submission.csv')"
   ]
  },
  {
   "cell_type": "markdown",
   "id": "e7b6bb24",
   "metadata": {
    "papermill": {
     "duration": 0.133083,
     "end_time": "2022-03-24T17:52:47.684847",
     "exception": false,
     "start_time": "2022-03-24T17:52:47.551764",
     "status": "completed"
    },
    "tags": []
   },
   "source": [
    "## Prepare the data for the training\n",
    "- Change the data tyoe of season and weather to character (Set them as category)\n",
    "- Add new features\n",
    "  - year (set as category)\n",
    "  - month (set as category)\n",
    "  - hour (set as category)"
   ]
  },
  {
   "cell_type": "markdown",
   "id": "a91f8102",
   "metadata": {
    "papermill": {
     "duration": 0.132083,
     "end_time": "2022-03-24T17:52:47.949502",
     "exception": false,
     "start_time": "2022-03-24T17:52:47.817419",
     "status": "completed"
    },
    "tags": []
   },
   "source": [
    "### Chage the data type of season and weather to characeter (They are categories)"
   ]
  },
  {
   "cell_type": "code",
   "execution_count": 2,
   "id": "e9973a4a",
   "metadata": {
    "execution": {
     "iopub.execute_input": "2022-03-24T17:52:48.257382Z",
     "iopub.status.busy": "2022-03-24T17:52:48.219236Z",
     "iopub.status.idle": "2022-03-24T17:52:48.277758Z",
     "shell.execute_reply": "2022-03-24T17:52:48.276077Z"
    },
    "papermill": {
     "duration": 0.195008,
     "end_time": "2022-03-24T17:52:48.277943",
     "exception": false,
     "start_time": "2022-03-24T17:52:48.082935",
     "status": "completed"
    },
    "tags": []
   },
   "outputs": [],
   "source": [
    "df$season = as.character(df$season)\n",
    "df$weather = as.character(df$weather)\n",
    "for_predict$season = as.character(for_predict$season)\n",
    "for_predict$weather = as.character(for_predict$weather)\n",
    "df$workingday = as.character(df$workingday)\n",
    "for_predict$workingday = as.character(for_predict$workingday)"
   ]
  },
  {
   "cell_type": "code",
   "execution_count": 3,
   "id": "59feaa38",
   "metadata": {
    "execution": {
     "iopub.execute_input": "2022-03-24T17:52:48.549707Z",
     "iopub.status.busy": "2022-03-24T17:52:48.548032Z",
     "iopub.status.idle": "2022-03-24T17:52:48.560800Z",
     "shell.execute_reply": "2022-03-24T17:52:48.559236Z"
    },
    "papermill": {
     "duration": 0.149384,
     "end_time": "2022-03-24T17:52:48.560965",
     "exception": false,
     "start_time": "2022-03-24T17:52:48.411581",
     "status": "completed"
    },
    "tags": []
   },
   "outputs": [],
   "source": [
    "#head(df)"
   ]
  },
  {
   "cell_type": "markdown",
   "id": "3e36c974",
   "metadata": {
    "papermill": {
     "duration": 0.132631,
     "end_time": "2022-03-24T17:52:48.825618",
     "exception": false,
     "start_time": "2022-03-24T17:52:48.692987",
     "status": "completed"
    },
    "tags": []
   },
   "source": [
    "### Add new features\n",
    "#### doing this in order to get more information, we can not get a good model from original given information"
   ]
  },
  {
   "cell_type": "markdown",
   "id": "ca4bd89f",
   "metadata": {
    "papermill": {
     "duration": 0.132475,
     "end_time": "2022-03-24T17:52:49.092066",
     "exception": false,
     "start_time": "2022-03-24T17:52:48.959591",
     "status": "completed"
    },
    "tags": []
   },
   "source": [
    "#### - year (set as category)\n",
    "#### - month (set as category)\n",
    "#### - hour (set as category)"
   ]
  },
  {
   "cell_type": "code",
   "execution_count": 4,
   "id": "a5148580",
   "metadata": {
    "execution": {
     "iopub.execute_input": "2022-03-24T17:52:49.360975Z",
     "iopub.status.busy": "2022-03-24T17:52:49.359257Z",
     "iopub.status.idle": "2022-03-24T17:52:49.569021Z",
     "shell.execute_reply": "2022-03-24T17:52:49.567329Z"
    },
    "papermill": {
     "duration": 0.345224,
     "end_time": "2022-03-24T17:52:49.569175",
     "exception": false,
     "start_time": "2022-03-24T17:52:49.223951",
     "status": "completed"
    },
    "tags": []
   },
   "outputs": [
    {
     "name": "stderr",
     "output_type": "stream",
     "text": [
      "\n",
      "Attaching package: ‘lubridate’\n",
      "\n",
      "\n",
      "The following objects are masked from ‘package:base’:\n",
      "\n",
      "    date, intersect, setdiff, union\n",
      "\n",
      "\n"
     ]
    }
   ],
   "source": [
    "# load the package for dealing with date data\n",
    "library(lubridate)"
   ]
  },
  {
   "cell_type": "code",
   "execution_count": 5,
   "id": "3f335282",
   "metadata": {
    "execution": {
     "iopub.execute_input": "2022-03-24T17:52:49.846330Z",
     "iopub.status.busy": "2022-03-24T17:52:49.844241Z",
     "iopub.status.idle": "2022-03-24T17:52:49.894858Z",
     "shell.execute_reply": "2022-03-24T17:52:49.893480Z"
    },
    "papermill": {
     "duration": 0.188106,
     "end_time": "2022-03-24T17:52:49.895020",
     "exception": false,
     "start_time": "2022-03-24T17:52:49.706914",
     "status": "completed"
    },
    "tags": []
   },
   "outputs": [],
   "source": [
    "#separate out hours\n",
    "time <- as.POSIXlt(df$datetime, format = \"%m/%d/%Y %H:%M\")\n",
    "#df$datetime <- format(time, format = \"%m/%d/%Y\")\n",
    "df$month <- format(time, format = \"%m\")\n",
    "df$year <- format(time, format = \"%Y\")\n",
    "df$hour <- format(time, format = \"%H\")\n",
    "\n",
    "time2 <- as.POSIXlt(for_predict$datetime, format = \"%m/%d/%Y %H:%M\")\n",
    "#for_predict$datetime <- format(time2, format = \"%m/%d/%Y\")\n",
    "for_predict$month <- format(time2, format = \"%m\")\n",
    "for_predict$year <- format(time2, format = \"%Y\")\n",
    "for_predict$hour <- format(time2, format = \"%H\")"
   ]
  },
  {
   "cell_type": "code",
   "execution_count": 6,
   "id": "107ccebb",
   "metadata": {
    "execution": {
     "iopub.execute_input": "2022-03-24T17:52:50.170510Z",
     "iopub.status.busy": "2022-03-24T17:52:50.169086Z",
     "iopub.status.idle": "2022-03-24T17:52:50.191847Z",
     "shell.execute_reply": "2022-03-24T17:52:50.190491Z"
    },
    "papermill": {
     "duration": 0.162693,
     "end_time": "2022-03-24T17:52:50.192030",
     "exception": false,
     "start_time": "2022-03-24T17:52:50.029337",
     "status": "completed"
    },
    "tags": []
   },
   "outputs": [],
   "source": [
    "# set them as category\n",
    "df$hour = as.character(df$hour)\n",
    "for_predict$hour = as.character(for_predict$hour)\n",
    "df$month = as.character(df$month)\n",
    "for_predict$month = as.character(for_predict$month)\n",
    "df$year = as.character(df$year)\n",
    "for_predict$year = as.character(for_predict$year)"
   ]
  },
  {
   "cell_type": "code",
   "execution_count": 7,
   "id": "010fa855",
   "metadata": {
    "execution": {
     "iopub.execute_input": "2022-03-24T17:52:50.467610Z",
     "iopub.status.busy": "2022-03-24T17:52:50.466168Z",
     "iopub.status.idle": "2022-03-24T17:52:50.485435Z",
     "shell.execute_reply": "2022-03-24T17:52:50.484224Z"
    },
    "papermill": {
     "duration": 0.158669,
     "end_time": "2022-03-24T17:52:50.485581",
     "exception": false,
     "start_time": "2022-03-24T17:52:50.326912",
     "status": "completed"
    },
    "tags": []
   },
   "outputs": [],
   "source": [
    "#separate out name of weekday\n",
    "df$weekday <- wday(time)\n",
    "for_predict$weekday <- wday(time2)\n",
    "df$weekday = as.character(df$weekday)\n",
    "for_predict$weekday = as.character(for_predict$weekday)"
   ]
  },
  {
   "cell_type": "markdown",
   "id": "58c9b1e6",
   "metadata": {
    "papermill": {
     "duration": 0.133548,
     "end_time": "2022-03-24T17:52:50.753105",
     "exception": false,
     "start_time": "2022-03-24T17:52:50.619557",
     "status": "completed"
    },
    "tags": []
   },
   "source": [
    "#### - set humidity as category\n",
    "#### - set windspeed as category"
   ]
  },
  {
   "cell_type": "code",
   "execution_count": 8,
   "id": "d2a7d7df",
   "metadata": {
    "execution": {
     "iopub.execute_input": "2022-03-24T17:52:51.077506Z",
     "iopub.status.busy": "2022-03-24T17:52:51.075287Z",
     "iopub.status.idle": "2022-03-24T17:52:51.104635Z",
     "shell.execute_reply": "2022-03-24T17:52:51.103230Z"
    },
    "papermill": {
     "duration": 0.21424,
     "end_time": "2022-03-24T17:52:51.104809",
     "exception": false,
     "start_time": "2022-03-24T17:52:50.890569",
     "status": "completed"
    },
    "tags": []
   },
   "outputs": [],
   "source": [
    "# set category for humidity\n",
    "df$humidity[which(df$humidity <= 30)] <- 1000\n",
    "df$humidity[which(df$humidity <= 55)] <- 2000\n",
    "df$humidity[which(df$humidity <= 79)] <- 3000\n",
    "df$humidity[which(df$humidity <= 100)] <- 4000\n",
    "\n",
    "for_predict$humidity[which(for_predict$humidity <= 30)] <- 1000\n",
    "for_predict$humidity[which(for_predict$humidity <= 55)] <- 2000\n",
    "for_predict$humidity[which(for_predict$humidity <= 79)] <- 3000\n",
    "for_predict$humidity[which(for_predict$humidity <= 100)] <- 4000"
   ]
  },
  {
   "cell_type": "code",
   "execution_count": 9,
   "id": "31576577",
   "metadata": {
    "execution": {
     "iopub.execute_input": "2022-03-24T17:52:51.385787Z",
     "iopub.status.busy": "2022-03-24T17:52:51.383564Z",
     "iopub.status.idle": "2022-03-24T17:52:51.408585Z",
     "shell.execute_reply": "2022-03-24T17:52:51.406823Z"
    },
    "papermill": {
     "duration": 0.164616,
     "end_time": "2022-03-24T17:52:51.408739",
     "exception": false,
     "start_time": "2022-03-24T17:52:51.244123",
     "status": "completed"
    },
    "tags": []
   },
   "outputs": [],
   "source": [
    "# set category for windspeed\n",
    "df$windspeed[which(df$windspeed <= 10)] <- 1000\n",
    "df$windspeed[which(df$windspeed <= 35.5)] <- 2000\n",
    "df$windspeed[which(df$windspeed <= 200)] <- 3000\n",
    "\n",
    "for_predict$windspeed[which(for_predict$windspeed <= 10)] <- 1000\n",
    "for_predict$windspeed[which(for_predict$windspeed <= 35.5)] <- 2000\n",
    "for_predict$windspeed[which(for_predict$windspeed <= 200)] <- 3000"
   ]
  },
  {
   "cell_type": "markdown",
   "id": "213bf62b",
   "metadata": {
    "papermill": {
     "duration": 0.135542,
     "end_time": "2022-03-24T17:52:51.677573",
     "exception": false,
     "start_time": "2022-03-24T17:52:51.542031",
     "status": "completed"
    },
    "tags": []
   },
   "source": [
    "#### - set tempreture data as category according to atemp"
   ]
  },
  {
   "cell_type": "code",
   "execution_count": 10,
   "id": "70f4c8bf",
   "metadata": {
    "execution": {
     "iopub.execute_input": "2022-03-24T17:52:51.960047Z",
     "iopub.status.busy": "2022-03-24T17:52:51.957740Z",
     "iopub.status.idle": "2022-03-24T17:52:51.978370Z",
     "shell.execute_reply": "2022-03-24T17:52:51.976772Z"
    },
    "papermill": {
     "duration": 0.16532,
     "end_time": "2022-03-24T17:52:51.978532",
     "exception": false,
     "start_time": "2022-03-24T17:52:51.813212",
     "status": "completed"
    },
    "tags": []
   },
   "outputs": [],
   "source": [
    "df$humidity = as.character(df$humidity)\n",
    "for_predict$humidity = as.character(for_predict$humidity)\n",
    "df$windspeed = as.character(df$windspeed)\n",
    "for_predict$windspeed = as.character(for_predict$windspeed)"
   ]
  },
  {
   "cell_type": "code",
   "execution_count": 11,
   "id": "0276c27f",
   "metadata": {
    "execution": {
     "iopub.execute_input": "2022-03-24T17:52:52.258276Z",
     "iopub.status.busy": "2022-03-24T17:52:52.256678Z",
     "iopub.status.idle": "2022-03-24T17:52:52.272921Z",
     "shell.execute_reply": "2022-03-24T17:52:52.271240Z"
    },
    "papermill": {
     "duration": 0.156323,
     "end_time": "2022-03-24T17:52:52.273099",
     "exception": false,
     "start_time": "2022-03-24T17:52:52.116776",
     "status": "completed"
    },
    "tags": []
   },
   "outputs": [],
   "source": [
    "df$tempclass <- df$atemp\n",
    "for_predict$tempclass <- for_predict$atemp"
   ]
  },
  {
   "cell_type": "code",
   "execution_count": 12,
   "id": "4c855563",
   "metadata": {
    "execution": {
     "iopub.execute_input": "2022-03-24T17:52:52.569321Z",
     "iopub.status.busy": "2022-03-24T17:52:52.566198Z",
     "iopub.status.idle": "2022-03-24T17:52:52.606192Z",
     "shell.execute_reply": "2022-03-24T17:52:52.604155Z"
    },
    "papermill": {
     "duration": 0.192937,
     "end_time": "2022-03-24T17:52:52.606373",
     "exception": false,
     "start_time": "2022-03-24T17:52:52.413436",
     "status": "completed"
    },
    "tags": []
   },
   "outputs": [],
   "source": [
    "# set category for tempreture\n",
    "df$tempclass[which(df$tempclass <= 14)] <- 1000\n",
    "df$tempclass[which(df$tempclass <= 24)] <- 2000\n",
    "df$tempclass[which(df$tempclass <= 30)] <- 3000\n",
    "df$tempclass[which(df$tempclass <= 100)] <- 4000\n",
    "\n",
    "\n",
    "for_predict$tempclass[which(for_predict$tempclass <= 14)] <- 1000\n",
    "for_predict$tempclass[which(for_predict$tempclass <= 24)] <- 2000\n",
    "for_predict$tempclass[which(for_predict$tempclass <= 30)] <- 3000\n",
    "for_predict$tempclass[which(for_predict$tempclass <= 100)] <- 4000"
   ]
  },
  {
   "cell_type": "code",
   "execution_count": 13,
   "id": "72e4cb34",
   "metadata": {
    "execution": {
     "iopub.execute_input": "2022-03-24T17:52:52.915274Z",
     "iopub.status.busy": "2022-03-24T17:52:52.913618Z",
     "iopub.status.idle": "2022-03-24T17:52:52.930211Z",
     "shell.execute_reply": "2022-03-24T17:52:52.928773Z"
    },
    "papermill": {
     "duration": 0.162281,
     "end_time": "2022-03-24T17:52:52.930378",
     "exception": false,
     "start_time": "2022-03-24T17:52:52.768097",
     "status": "completed"
    },
    "tags": []
   },
   "outputs": [],
   "source": [
    "df$tempclass = as.character(df$tempclass)\n",
    "for_predict$tempclass = as.character(for_predict$tempclass)"
   ]
  },
  {
   "cell_type": "code",
   "execution_count": 14,
   "id": "3b035290",
   "metadata": {
    "execution": {
     "iopub.execute_input": "2022-03-24T17:52:53.225364Z",
     "iopub.status.busy": "2022-03-24T17:52:53.223914Z",
     "iopub.status.idle": "2022-03-24T17:52:53.267581Z",
     "shell.execute_reply": "2022-03-24T17:52:53.265810Z"
    },
    "papermill": {
     "duration": 0.19478,
     "end_time": "2022-03-24T17:52:53.267803",
     "exception": false,
     "start_time": "2022-03-24T17:52:53.073023",
     "status": "completed"
    },
    "tags": []
   },
   "outputs": [
    {
     "data": {
      "text/html": [
       "<table class=\"dataframe\">\n",
       "<caption>A data.frame: 6 × 17</caption>\n",
       "<thead>\n",
       "\t<tr><th></th><th scope=col>datetime</th><th scope=col>season</th><th scope=col>holiday</th><th scope=col>workingday</th><th scope=col>weather</th><th scope=col>temp</th><th scope=col>atemp</th><th scope=col>humidity</th><th scope=col>windspeed</th><th scope=col>casual</th><th scope=col>registered</th><th scope=col>count</th><th scope=col>month</th><th scope=col>year</th><th scope=col>hour</th><th scope=col>weekday</th><th scope=col>tempclass</th></tr>\n",
       "\t<tr><th></th><th scope=col>&lt;chr&gt;</th><th scope=col>&lt;chr&gt;</th><th scope=col>&lt;int&gt;</th><th scope=col>&lt;chr&gt;</th><th scope=col>&lt;chr&gt;</th><th scope=col>&lt;dbl&gt;</th><th scope=col>&lt;dbl&gt;</th><th scope=col>&lt;chr&gt;</th><th scope=col>&lt;chr&gt;</th><th scope=col>&lt;int&gt;</th><th scope=col>&lt;int&gt;</th><th scope=col>&lt;int&gt;</th><th scope=col>&lt;chr&gt;</th><th scope=col>&lt;chr&gt;</th><th scope=col>&lt;chr&gt;</th><th scope=col>&lt;chr&gt;</th><th scope=col>&lt;chr&gt;</th></tr>\n",
       "</thead>\n",
       "<tbody>\n",
       "\t<tr><th scope=row>1</th><td>1/1/2011 0:00</td><td>1</td><td>0</td><td>0</td><td>1</td><td>9.84</td><td>14.395</td><td>4000</td><td>1000</td><td>3</td><td>13</td><td>16</td><td>01</td><td>2011</td><td>00</td><td>7</td><td>2000</td></tr>\n",
       "\t<tr><th scope=row>2</th><td>1/1/2011 1:00</td><td>1</td><td>0</td><td>0</td><td>1</td><td>9.02</td><td>13.635</td><td>4000</td><td>1000</td><td>8</td><td>32</td><td>40</td><td>01</td><td>2011</td><td>01</td><td>7</td><td>1000</td></tr>\n",
       "\t<tr><th scope=row>3</th><td>1/1/2011 2:00</td><td>1</td><td>0</td><td>0</td><td>1</td><td>9.02</td><td>13.635</td><td>4000</td><td>1000</td><td>5</td><td>27</td><td>32</td><td>01</td><td>2011</td><td>02</td><td>7</td><td>1000</td></tr>\n",
       "\t<tr><th scope=row>4</th><td>1/1/2011 3:00</td><td>1</td><td>0</td><td>0</td><td>1</td><td>9.84</td><td>14.395</td><td>3000</td><td>1000</td><td>3</td><td>10</td><td>13</td><td>01</td><td>2011</td><td>03</td><td>7</td><td>2000</td></tr>\n",
       "\t<tr><th scope=row>5</th><td>1/1/2011 4:00</td><td>1</td><td>0</td><td>0</td><td>1</td><td>9.84</td><td>14.395</td><td>3000</td><td>1000</td><td>0</td><td> 1</td><td> 1</td><td>01</td><td>2011</td><td>04</td><td>7</td><td>2000</td></tr>\n",
       "\t<tr><th scope=row>6</th><td>1/1/2011 5:00</td><td>1</td><td>0</td><td>0</td><td>2</td><td>9.84</td><td>12.880</td><td>3000</td><td>1000</td><td>0</td><td> 1</td><td> 1</td><td>01</td><td>2011</td><td>05</td><td>7</td><td>1000</td></tr>\n",
       "</tbody>\n",
       "</table>\n"
      ],
      "text/latex": [
       "A data.frame: 6 × 17\n",
       "\\begin{tabular}{r|lllllllllllllllll}\n",
       "  & datetime & season & holiday & workingday & weather & temp & atemp & humidity & windspeed & casual & registered & count & month & year & hour & weekday & tempclass\\\\\n",
       "  & <chr> & <chr> & <int> & <chr> & <chr> & <dbl> & <dbl> & <chr> & <chr> & <int> & <int> & <int> & <chr> & <chr> & <chr> & <chr> & <chr>\\\\\n",
       "\\hline\n",
       "\t1 & 1/1/2011 0:00 & 1 & 0 & 0 & 1 & 9.84 & 14.395 & 4000 & 1000 & 3 & 13 & 16 & 01 & 2011 & 00 & 7 & 2000\\\\\n",
       "\t2 & 1/1/2011 1:00 & 1 & 0 & 0 & 1 & 9.02 & 13.635 & 4000 & 1000 & 8 & 32 & 40 & 01 & 2011 & 01 & 7 & 1000\\\\\n",
       "\t3 & 1/1/2011 2:00 & 1 & 0 & 0 & 1 & 9.02 & 13.635 & 4000 & 1000 & 5 & 27 & 32 & 01 & 2011 & 02 & 7 & 1000\\\\\n",
       "\t4 & 1/1/2011 3:00 & 1 & 0 & 0 & 1 & 9.84 & 14.395 & 3000 & 1000 & 3 & 10 & 13 & 01 & 2011 & 03 & 7 & 2000\\\\\n",
       "\t5 & 1/1/2011 4:00 & 1 & 0 & 0 & 1 & 9.84 & 14.395 & 3000 & 1000 & 0 &  1 &  1 & 01 & 2011 & 04 & 7 & 2000\\\\\n",
       "\t6 & 1/1/2011 5:00 & 1 & 0 & 0 & 2 & 9.84 & 12.880 & 3000 & 1000 & 0 &  1 &  1 & 01 & 2011 & 05 & 7 & 1000\\\\\n",
       "\\end{tabular}\n"
      ],
      "text/markdown": [
       "\n",
       "A data.frame: 6 × 17\n",
       "\n",
       "| <!--/--> | datetime &lt;chr&gt; | season &lt;chr&gt; | holiday &lt;int&gt; | workingday &lt;chr&gt; | weather &lt;chr&gt; | temp &lt;dbl&gt; | atemp &lt;dbl&gt; | humidity &lt;chr&gt; | windspeed &lt;chr&gt; | casual &lt;int&gt; | registered &lt;int&gt; | count &lt;int&gt; | month &lt;chr&gt; | year &lt;chr&gt; | hour &lt;chr&gt; | weekday &lt;chr&gt; | tempclass &lt;chr&gt; |\n",
       "|---|---|---|---|---|---|---|---|---|---|---|---|---|---|---|---|---|---|\n",
       "| 1 | 1/1/2011 0:00 | 1 | 0 | 0 | 1 | 9.84 | 14.395 | 4000 | 1000 | 3 | 13 | 16 | 01 | 2011 | 00 | 7 | 2000 |\n",
       "| 2 | 1/1/2011 1:00 | 1 | 0 | 0 | 1 | 9.02 | 13.635 | 4000 | 1000 | 8 | 32 | 40 | 01 | 2011 | 01 | 7 | 1000 |\n",
       "| 3 | 1/1/2011 2:00 | 1 | 0 | 0 | 1 | 9.02 | 13.635 | 4000 | 1000 | 5 | 27 | 32 | 01 | 2011 | 02 | 7 | 1000 |\n",
       "| 4 | 1/1/2011 3:00 | 1 | 0 | 0 | 1 | 9.84 | 14.395 | 3000 | 1000 | 3 | 10 | 13 | 01 | 2011 | 03 | 7 | 2000 |\n",
       "| 5 | 1/1/2011 4:00 | 1 | 0 | 0 | 1 | 9.84 | 14.395 | 3000 | 1000 | 0 |  1 |  1 | 01 | 2011 | 04 | 7 | 2000 |\n",
       "| 6 | 1/1/2011 5:00 | 1 | 0 | 0 | 2 | 9.84 | 12.880 | 3000 | 1000 | 0 |  1 |  1 | 01 | 2011 | 05 | 7 | 1000 |\n",
       "\n"
      ],
      "text/plain": [
       "  datetime      season holiday workingday weather temp atemp  humidity\n",
       "1 1/1/2011 0:00 1      0       0          1       9.84 14.395 4000    \n",
       "2 1/1/2011 1:00 1      0       0          1       9.02 13.635 4000    \n",
       "3 1/1/2011 2:00 1      0       0          1       9.02 13.635 4000    \n",
       "4 1/1/2011 3:00 1      0       0          1       9.84 14.395 3000    \n",
       "5 1/1/2011 4:00 1      0       0          1       9.84 14.395 3000    \n",
       "6 1/1/2011 5:00 1      0       0          2       9.84 12.880 3000    \n",
       "  windspeed casual registered count month year hour weekday tempclass\n",
       "1 1000      3      13         16    01    2011 00   7       2000     \n",
       "2 1000      8      32         40    01    2011 01   7       1000     \n",
       "3 1000      5      27         32    01    2011 02   7       1000     \n",
       "4 1000      3      10         13    01    2011 03   7       2000     \n",
       "5 1000      0       1          1    01    2011 04   7       2000     \n",
       "6 1000      0       1          1    01    2011 05   7       1000     "
      ]
     },
     "metadata": {},
     "output_type": "display_data"
    }
   ],
   "source": [
    "# check the data\n",
    "head(df)"
   ]
  },
  {
   "cell_type": "code",
   "execution_count": 15,
   "id": "462c1878",
   "metadata": {
    "execution": {
     "iopub.execute_input": "2022-03-24T17:52:53.562732Z",
     "iopub.status.busy": "2022-03-24T17:52:53.560241Z",
     "iopub.status.idle": "2022-03-24T17:52:53.575519Z",
     "shell.execute_reply": "2022-03-24T17:52:53.573587Z"
    },
    "papermill": {
     "duration": 0.157623,
     "end_time": "2022-03-24T17:52:53.575671",
     "exception": false,
     "start_time": "2022-03-24T17:52:53.418048",
     "status": "completed"
    },
    "tags": []
   },
   "outputs": [],
   "source": [
    "#write.table(df,\"./feature.csv\", row.names = FALSE, sep = ',')"
   ]
  },
  {
   "cell_type": "markdown",
   "id": "a02ced47",
   "metadata": {
    "papermill": {
     "duration": 0.138995,
     "end_time": "2022-03-24T17:52:53.856297",
     "exception": false,
     "start_time": "2022-03-24T17:52:53.717302",
     "status": "completed"
    },
    "tags": []
   },
   "source": [
    "## Split training and test set \n",
    "#### (Do this because we have limited change to submit, so test the result first here)"
   ]
  },
  {
   "cell_type": "markdown",
   "id": "801d0de2",
   "metadata": {
    "papermill": {
     "duration": 0.136979,
     "end_time": "2022-03-24T17:52:54.132620",
     "exception": false,
     "start_time": "2022-03-24T17:52:53.995641",
     "status": "completed"
    },
    "tags": []
   },
   "source": [
    "I try to set seed here and change the seed 5 times of every model to get the average of the RMSE here to simulate cross validiction."
   ]
  },
  {
   "cell_type": "markdown",
   "id": "3c6aacbe",
   "metadata": {
    "papermill": {
     "duration": 0.146165,
     "end_time": "2022-03-24T17:52:54.415829",
     "exception": false,
     "start_time": "2022-03-24T17:52:54.269664",
     "status": "completed"
    },
    "tags": []
   },
   "source": [
    "**And we have a finding that when we split the data to training and test set by 6:4. The outcome(averge of 5 RMSE from test set)  are always close to the score on the public rank! That make us believe that the data in we are goinf to predict is similar as the training data.**"
   ]
  },
  {
   "cell_type": "code",
   "execution_count": 16,
   "id": "f98d48e6",
   "metadata": {
    "execution": {
     "iopub.execute_input": "2022-03-24T17:52:54.726081Z",
     "iopub.status.busy": "2022-03-24T17:52:54.724939Z",
     "iopub.status.idle": "2022-03-24T17:52:54.738786Z",
     "shell.execute_reply": "2022-03-24T17:52:54.737357Z"
    },
    "papermill": {
     "duration": 0.164662,
     "end_time": "2022-03-24T17:52:54.738971",
     "exception": false,
     "start_time": "2022-03-24T17:52:54.574309",
     "status": "completed"
    },
    "tags": []
   },
   "outputs": [],
   "source": [
    "# set different seed here 5 times to test one single model\n",
    "set.seed(39)"
   ]
  },
  {
   "cell_type": "code",
   "execution_count": 17,
   "id": "2a6c6f17",
   "metadata": {
    "execution": {
     "iopub.execute_input": "2022-03-24T17:52:55.040026Z",
     "iopub.status.busy": "2022-03-24T17:52:55.038442Z",
     "iopub.status.idle": "2022-03-24T17:52:55.062548Z",
     "shell.execute_reply": "2022-03-24T17:52:55.061411Z"
    },
    "papermill": {
     "duration": 0.173937,
     "end_time": "2022-03-24T17:52:55.062697",
     "exception": false,
     "start_time": "2022-03-24T17:52:54.888760",
     "status": "completed"
    },
    "tags": []
   },
   "outputs": [],
   "source": [
    "train_range <- sample.int(n = nrow(df), size = floor(.6*nrow(df)), replace = FALSE)\n",
    "df1 <- df[train_range, ]\n",
    "df2 <- df[-train_range, ]"
   ]
  },
  {
   "cell_type": "markdown",
   "id": "ed195ead",
   "metadata": {
    "papermill": {
     "duration": 0.144484,
     "end_time": "2022-03-24T17:52:55.360225",
     "exception": false,
     "start_time": "2022-03-24T17:52:55.215741",
     "status": "completed"
    },
    "tags": []
   },
   "source": [
    "## Train the Casual and Registered data \n",
    "#### We first two build model for 'casual' and 'registered' and use backward selection to see which variables we need to remove"
   ]
  },
  {
   "cell_type": "code",
   "execution_count": 18,
   "id": "e6e784ca",
   "metadata": {
    "execution": {
     "iopub.execute_input": "2022-03-24T17:52:55.657610Z",
     "iopub.status.busy": "2022-03-24T17:52:55.656083Z",
     "iopub.status.idle": "2022-03-24T17:52:56.534273Z",
     "shell.execute_reply": "2022-03-24T17:52:56.532606Z"
    },
    "papermill": {
     "duration": 1.027901,
     "end_time": "2022-03-24T17:52:56.534421",
     "exception": false,
     "start_time": "2022-03-24T17:52:55.506520",
     "status": "completed"
    },
    "tags": []
   },
   "outputs": [
    {
     "name": "stderr",
     "output_type": "stream",
     "text": [
      "\n",
      "Attaching package: ‘olsrr’\n",
      "\n",
      "\n",
      "The following object is masked from ‘package:datasets’:\n",
      "\n",
      "    rivers\n",
      "\n",
      "\n"
     ]
    }
   ],
   "source": [
    "# load the package for backward selection\n",
    "library(olsrr)"
   ]
  },
  {
   "cell_type": "markdown",
   "id": "170ee45b",
   "metadata": {
    "papermill": {
     "duration": 0.140176,
     "end_time": "2022-03-24T17:52:56.814269",
     "exception": false,
     "start_time": "2022-03-24T17:52:56.674093",
     "status": "completed"
    },
    "tags": []
   },
   "source": [
    "But time for running backward selection is too long when we are getting to many variables. So we stop doing this when it takes too long time to run."
   ]
  },
  {
   "cell_type": "code",
   "execution_count": 19,
   "id": "c0ad2d71",
   "metadata": {
    "execution": {
     "iopub.execute_input": "2022-03-24T17:52:57.105328Z",
     "iopub.status.busy": "2022-03-24T17:52:57.102126Z",
     "iopub.status.idle": "2022-03-24T17:52:57.117781Z",
     "shell.execute_reply": "2022-03-24T17:52:57.116007Z"
    },
    "papermill": {
     "duration": 0.160239,
     "end_time": "2022-03-24T17:52:57.117959",
     "exception": false,
     "start_time": "2022-03-24T17:52:56.957720",
     "status": "completed"
    },
    "tags": []
   },
   "outputs": [],
   "source": [
    "# create the model for casual users\n",
    "#fit_casual <- lm(casual ~ hour*workingday + hour + workingday + month*year + month + year + weekday + holiday + season + weather + temp + atemp + humidity + windspeed, data=df1)"
   ]
  },
  {
   "cell_type": "code",
   "execution_count": 20,
   "id": "ad11f806",
   "metadata": {
    "execution": {
     "iopub.execute_input": "2022-03-24T17:52:57.402817Z",
     "iopub.status.busy": "2022-03-24T17:52:57.400525Z",
     "iopub.status.idle": "2022-03-24T17:52:57.415694Z",
     "shell.execute_reply": "2022-03-24T17:52:57.413852Z"
    },
    "papermill": {
     "duration": 0.159417,
     "end_time": "2022-03-24T17:52:57.415846",
     "exception": false,
     "start_time": "2022-03-24T17:52:57.256429",
     "status": "completed"
    },
    "tags": []
   },
   "outputs": [],
   "source": [
    "#ols_step_backward_p(fit_casual)"
   ]
  },
  {
   "cell_type": "code",
   "execution_count": 21,
   "id": "d8df57d6",
   "metadata": {
    "execution": {
     "iopub.execute_input": "2022-03-24T17:52:57.699495Z",
     "iopub.status.busy": "2022-03-24T17:52:57.697609Z",
     "iopub.status.idle": "2022-03-24T17:52:57.711805Z",
     "shell.execute_reply": "2022-03-24T17:52:57.710136Z"
    },
    "papermill": {
     "duration": 0.157795,
     "end_time": "2022-03-24T17:52:57.711969",
     "exception": false,
     "start_time": "2022-03-24T17:52:57.554174",
     "status": "completed"
    },
    "tags": []
   },
   "outputs": [],
   "source": [
    "# create the model for registered users\n",
    "#fit_registered <- lm(registered ~ hour*workingday + hour + workingday + month*year + month + year + weekday + holiday + season + weather + temp + atemp + humidity + windspeed, data=df1)"
   ]
  },
  {
   "cell_type": "code",
   "execution_count": 22,
   "id": "274b9862",
   "metadata": {
    "execution": {
     "iopub.execute_input": "2022-03-24T17:52:57.997083Z",
     "iopub.status.busy": "2022-03-24T17:52:57.995209Z",
     "iopub.status.idle": "2022-03-24T17:52:58.009508Z",
     "shell.execute_reply": "2022-03-24T17:52:58.007726Z"
    },
    "papermill": {
     "duration": 0.1595,
     "end_time": "2022-03-24T17:52:58.009654",
     "exception": false,
     "start_time": "2022-03-24T17:52:57.850154",
     "status": "completed"
    },
    "tags": []
   },
   "outputs": [],
   "source": [
    "#ols_step_backward_p(fit_registered)"
   ]
  },
  {
   "cell_type": "markdown",
   "id": "623e2390",
   "metadata": {
    "papermill": {
     "duration": 0.138459,
     "end_time": "2022-03-24T17:52:58.287855",
     "exception": false,
     "start_time": "2022-03-24T17:52:58.149396",
     "status": "completed"
    },
    "tags": []
   },
   "source": [
    "## Test the preformance of the model"
   ]
  },
  {
   "cell_type": "markdown",
   "id": "9465f344",
   "metadata": {
    "papermill": {
     "duration": 0.138252,
     "end_time": "2022-03-24T17:52:58.564804",
     "exception": false,
     "start_time": "2022-03-24T17:52:58.426552",
     "status": "completed"
    },
    "tags": []
   },
   "source": [
    "### Define the model after the backward selection and build model on the training set."
   ]
  },
  {
   "cell_type": "markdown",
   "id": "a550a514",
   "metadata": {
    "papermill": {
     "duration": 0.143766,
     "end_time": "2022-03-24T17:52:58.848909",
     "exception": false,
     "start_time": "2022-03-24T17:52:58.705143",
     "status": "completed"
    },
    "tags": []
   },
   "source": [
    "We can get more information about count when we do the combine. So we combine the single features to get new features here."
   ]
  },
  {
   "attachments": {
    "4fb9df75-ca17-409e-99c3-2ed36f75e340.png": {
     "image/png": "[encoded data removed]"
    }
   },
   "cell_type": "markdown",
   "id": "2b93e3a7",
   "metadata": {
    "papermill": {
     "duration": 0.143094,
     "end_time": "2022-03-24T17:52:59.134816",
     "exception": false,
     "start_time": "2022-03-24T17:52:58.991722",
     "status": "completed"
    },
    "tags": []
   },
   "source": [
    "![截屏2022-03-24 下午12.46.51.png](attachment:4fb9df75-ca17-409e-99c3-2ed36f75e340.png)"
   ]
  },
  {
   "cell_type": "code",
   "execution_count": 23,
   "id": "6b113380",
   "metadata": {
    "execution": {
     "iopub.execute_input": "2022-03-24T17:52:59.420180Z",
     "iopub.status.busy": "2022-03-24T17:52:59.418441Z",
     "iopub.status.idle": "2022-03-24T17:53:03.086678Z",
     "shell.execute_reply": "2022-03-24T17:53:03.085353Z"
    },
    "papermill": {
     "duration": 3.812457,
     "end_time": "2022-03-24T17:53:03.086835",
     "exception": false,
     "start_time": "2022-03-24T17:52:59.274378",
     "status": "completed"
    },
    "tags": []
   },
   "outputs": [],
   "source": [
    "# define the model after selection\n",
    "fit_casual2 <- lm(casual ~ hour*workingday*month*year + weather + holiday + weekday + season + atemp + humidity*windspeed*tempclass + holiday*weekday, data=df1)"
   ]
  },
  {
   "cell_type": "code",
   "execution_count": 24,
   "id": "b2d5a094",
   "metadata": {
    "execution": {
     "iopub.execute_input": "2022-03-24T17:53:03.373092Z",
     "iopub.status.busy": "2022-03-24T17:53:03.371633Z",
     "iopub.status.idle": "2022-03-24T17:53:07.027560Z",
     "shell.execute_reply": "2022-03-24T17:53:07.026348Z"
    },
    "papermill": {
     "duration": 3.801088,
     "end_time": "2022-03-24T17:53:07.027713",
     "exception": false,
     "start_time": "2022-03-24T17:53:03.226625",
     "status": "completed"
    },
    "tags": []
   },
   "outputs": [],
   "source": [
    "# create the model for registered users\n",
    "fit_registered2 <- lm(registered ~ hour*workingday*month*year + weather + holiday + weekday + season + atemp + humidity*windspeed*tempclass + holiday*weekday, data=df1)"
   ]
  },
  {
   "cell_type": "markdown",
   "id": "3760c3ca",
   "metadata": {
    "papermill": {
     "duration": 0.141369,
     "end_time": "2022-03-24T17:53:07.311762",
     "exception": false,
     "start_time": "2022-03-24T17:53:07.170393",
     "status": "completed"
    },
    "tags": []
   },
   "source": [
    "### Test the performance on the test set (by RMSE)"
   ]
  },
  {
   "cell_type": "code",
   "execution_count": 25,
   "id": "9ff1c7e2",
   "metadata": {
    "execution": {
     "iopub.execute_input": "2022-03-24T17:53:07.600954Z",
     "iopub.status.busy": "2022-03-24T17:53:07.599594Z",
     "iopub.status.idle": "2022-03-24T17:53:07.953648Z",
     "shell.execute_reply": "2022-03-24T17:53:07.950827Z"
    },
    "papermill": {
     "duration": 0.499599,
     "end_time": "2022-03-24T17:53:07.953962",
     "exception": false,
     "start_time": "2022-03-24T17:53:07.454363",
     "status": "completed"
    },
    "tags": []
   },
   "outputs": [
    {
     "name": "stderr",
     "output_type": "stream",
     "text": [
      "Warning message in predict.lm(fit_casual2, df2):\n",
      "“prediction from a rank-deficient fit may be misleading”\n",
      "Warning message in predict.lm(fit_registered2, df2):\n",
      "“prediction from a rank-deficient fit may be misleading”\n"
     ]
    }
   ],
   "source": [
    "p1 = predict(fit_casual2, df2)\n",
    "p1[which(p1 < 0)] <- 0\n",
    "p2 = predict(fit_registered2, df2)\n",
    "p2[which(p2 < 0)] <- 0"
   ]
  },
  {
   "cell_type": "code",
   "execution_count": 26,
   "id": "3d4897c8",
   "metadata": {
    "execution": {
     "iopub.execute_input": "2022-03-24T17:53:08.293002Z",
     "iopub.status.busy": "2022-03-24T17:53:08.291525Z",
     "iopub.status.idle": "2022-03-24T17:53:08.313536Z",
     "shell.execute_reply": "2022-03-24T17:53:08.311936Z"
    },
    "papermill": {
     "duration": 0.168693,
     "end_time": "2022-03-24T17:53:08.313685",
     "exception": false,
     "start_time": "2022-03-24T17:53:08.144992",
     "status": "completed"
    },
    "tags": []
   },
   "outputs": [
    {
     "data": {
      "text/html": [
       "55.1787706125381"
      ],
      "text/latex": [
       "55.1787706125381"
      ],
      "text/markdown": [
       "55.1787706125381"
      ],
      "text/plain": [
       "[1] 55.17877"
      ]
     },
     "metadata": {},
     "output_type": "display_data"
    }
   ],
   "source": [
    "a <- p1 + p2\n",
    "\n",
    "RMSE_out<-sqrt(mean((df2$count-a)^2))\n",
    "RMSE_out"
   ]
  },
  {
   "cell_type": "markdown",
   "id": "1faa7741",
   "metadata": {
    "papermill": {
     "duration": 0.143338,
     "end_time": "2022-03-24T17:53:08.600780",
     "exception": false,
     "start_time": "2022-03-24T17:53:08.457442",
     "status": "completed"
    },
    "tags": []
   },
   "source": [
    "## Define the final model (on the whole dataset but not the traning set after split)"
   ]
  },
  {
   "cell_type": "code",
   "execution_count": 27,
   "id": "82e56903",
   "metadata": {
    "execution": {
     "iopub.execute_input": "2022-03-24T17:53:08.893811Z",
     "iopub.status.busy": "2022-03-24T17:53:08.891438Z",
     "iopub.status.idle": "2022-03-24T17:53:15.488130Z",
     "shell.execute_reply": "2022-03-24T17:53:15.486704Z"
    },
    "papermill": {
     "duration": 6.744517,
     "end_time": "2022-03-24T17:53:15.488299",
     "exception": false,
     "start_time": "2022-03-24T17:53:08.743782",
     "status": "completed"
    },
    "tags": []
   },
   "outputs": [],
   "source": [
    "# define the final model\n",
    "fit_casual_final <- lm(casual ~ hour*workingday*month*year + weather + holiday + weekday + season + atemp + humidity*windspeed*tempclass + holiday*weekday, data=df)"
   ]
  },
  {
   "cell_type": "code",
   "execution_count": 28,
   "id": "014943f4",
   "metadata": {
    "execution": {
     "iopub.execute_input": "2022-03-24T17:53:15.784701Z",
     "iopub.status.busy": "2022-03-24T17:53:15.783264Z",
     "iopub.status.idle": "2022-03-24T17:53:22.333664Z",
     "shell.execute_reply": "2022-03-24T17:53:22.332383Z"
    },
    "papermill": {
     "duration": 6.698188,
     "end_time": "2022-03-24T17:53:22.333817",
     "exception": false,
     "start_time": "2022-03-24T17:53:15.635629",
     "status": "completed"
    },
    "tags": []
   },
   "outputs": [],
   "source": [
    "# create the final model\n",
    "fit_registered_final <- lm(registered ~ hour*workingday*month*year + weather + holiday + weekday + season + atemp + humidity*windspeed*tempclass + holiday*weekday, data=df)"
   ]
  },
  {
   "cell_type": "markdown",
   "id": "62abfa95",
   "metadata": {
    "papermill": {
     "duration": 0.14348,
     "end_time": "2022-03-24T17:53:22.625438",
     "exception": false,
     "start_time": "2022-03-24T17:53:22.481958",
     "status": "completed"
    },
    "tags": []
   },
   "source": [
    "# Make the prediction and submit the file"
   ]
  },
  {
   "cell_type": "code",
   "execution_count": 29,
   "id": "85c7da82",
   "metadata": {
    "execution": {
     "iopub.execute_input": "2022-03-24T17:53:22.921385Z",
     "iopub.status.busy": "2022-03-24T17:53:22.919794Z",
     "iopub.status.idle": "2022-03-24T17:53:22.941250Z",
     "shell.execute_reply": "2022-03-24T17:53:22.939946Z"
    },
    "papermill": {
     "duration": 0.171041,
     "end_time": "2022-03-24T17:53:22.941401",
     "exception": false,
     "start_time": "2022-03-24T17:53:22.770360",
     "status": "completed"
    },
    "tags": []
   },
   "outputs": [],
   "source": [
    "# import the dataset for use to fill in the result\n",
    "to_submit = read.csv('../input/new-corrected-bike-sharing-otm-714-2022/bike sharing sample submission.csv')"
   ]
  },
  {
   "cell_type": "code",
   "execution_count": 30,
   "id": "cff37f76",
   "metadata": {
    "execution": {
     "iopub.execute_input": "2022-03-24T17:53:23.236685Z",
     "iopub.status.busy": "2022-03-24T17:53:23.234993Z",
     "iopub.status.idle": "2022-03-24T17:53:23.611720Z",
     "shell.execute_reply": "2022-03-24T17:53:23.609301Z"
    },
    "papermill": {
     "duration": 0.52653,
     "end_time": "2022-03-24T17:53:23.611994",
     "exception": false,
     "start_time": "2022-03-24T17:53:23.085464",
     "status": "completed"
    },
    "tags": []
   },
   "outputs": [
    {
     "name": "stderr",
     "output_type": "stream",
     "text": [
      "Warning message in predict.lm(fit_casual_final, for_predict):\n",
      "“prediction from a rank-deficient fit may be misleading”\n",
      "Warning message in predict.lm(fit_registered_final, for_predict):\n",
      "“prediction from a rank-deficient fit may be misleading”\n"
     ]
    }
   ],
   "source": [
    "prediction1 = predict(fit_casual_final, for_predict)\n",
    "#replace the prediction low than 0 with 0\n",
    "prediction1[which(prediction1 < 0)] <- 0\n",
    "prediction2 = predict(fit_registered_final, for_predict)\n",
    "#replace the prediction low than 0 with 0\n",
    "prediction2[which(prediction2 < 0)] <- 0"
   ]
  },
  {
   "cell_type": "code",
   "execution_count": 31,
   "id": "c3f12d9d",
   "metadata": {
    "execution": {
     "iopub.execute_input": "2022-03-24T17:53:23.964538Z",
     "iopub.status.busy": "2022-03-24T17:53:23.963023Z",
     "iopub.status.idle": "2022-03-24T17:53:23.976941Z",
     "shell.execute_reply": "2022-03-24T17:53:23.975535Z"
    },
    "papermill": {
     "duration": 0.165875,
     "end_time": "2022-03-24T17:53:23.977113",
     "exception": false,
     "start_time": "2022-03-24T17:53:23.811238",
     "status": "completed"
    },
    "tags": []
   },
   "outputs": [],
   "source": [
    "# sum up the 2 predictions to get the final prediction\n",
    "to_submit$count = prediction1 + prediction2"
   ]
  },
  {
   "cell_type": "code",
   "execution_count": 32,
   "id": "98c70d29",
   "metadata": {
    "execution": {
     "iopub.execute_input": "2022-03-24T17:53:24.276335Z",
     "iopub.status.busy": "2022-03-24T17:53:24.274813Z",
     "iopub.status.idle": "2022-03-24T17:53:24.297258Z",
     "shell.execute_reply": "2022-03-24T17:53:24.295853Z"
    },
    "papermill": {
     "duration": 0.173282,
     "end_time": "2022-03-24T17:53:24.297402",
     "exception": false,
     "start_time": "2022-03-24T17:53:24.124120",
     "status": "completed"
    },
    "tags": []
   },
   "outputs": [
    {
     "data": {
      "text/html": [
       "<table class=\"dataframe\">\n",
       "<caption>A data.frame: 6 × 2</caption>\n",
       "<thead>\n",
       "\t<tr><th></th><th scope=col>datetime</th><th scope=col>count</th></tr>\n",
       "\t<tr><th></th><th scope=col>&lt;chr&gt;</th><th scope=col>&lt;dbl&gt;</th></tr>\n",
       "</thead>\n",
       "<tbody>\n",
       "\t<tr><th scope=row>1</th><td>1/14/2011 0:00</td><td> 9.786185</td></tr>\n",
       "\t<tr><th scope=row>2</th><td>1/14/2011 1:00</td><td> 6.016491</td></tr>\n",
       "\t<tr><th scope=row>3</th><td>1/14/2011 2:00</td><td> 5.205518</td></tr>\n",
       "\t<tr><th scope=row>4</th><td>1/14/2011 3:00</td><td> 6.274910</td></tr>\n",
       "\t<tr><th scope=row>5</th><td>1/14/2011 5:00</td><td>11.309892</td></tr>\n",
       "\t<tr><th scope=row>6</th><td>1/14/2011 6:00</td><td>37.987898</td></tr>\n",
       "</tbody>\n",
       "</table>\n"
      ],
      "text/latex": [
       "A data.frame: 6 × 2\n",
       "\\begin{tabular}{r|ll}\n",
       "  & datetime & count\\\\\n",
       "  & <chr> & <dbl>\\\\\n",
       "\\hline\n",
       "\t1 & 1/14/2011 0:00 &  9.786185\\\\\n",
       "\t2 & 1/14/2011 1:00 &  6.016491\\\\\n",
       "\t3 & 1/14/2011 2:00 &  5.205518\\\\\n",
       "\t4 & 1/14/2011 3:00 &  6.274910\\\\\n",
       "\t5 & 1/14/2011 5:00 & 11.309892\\\\\n",
       "\t6 & 1/14/2011 6:00 & 37.987898\\\\\n",
       "\\end{tabular}\n"
      ],
      "text/markdown": [
       "\n",
       "A data.frame: 6 × 2\n",
       "\n",
       "| <!--/--> | datetime &lt;chr&gt; | count &lt;dbl&gt; |\n",
       "|---|---|---|\n",
       "| 1 | 1/14/2011 0:00 |  9.786185 |\n",
       "| 2 | 1/14/2011 1:00 |  6.016491 |\n",
       "| 3 | 1/14/2011 2:00 |  5.205518 |\n",
       "| 4 | 1/14/2011 3:00 |  6.274910 |\n",
       "| 5 | 1/14/2011 5:00 | 11.309892 |\n",
       "| 6 | 1/14/2011 6:00 | 37.987898 |\n",
       "\n"
      ],
      "text/plain": [
       "  datetime       count    \n",
       "1 1/14/2011 0:00  9.786185\n",
       "2 1/14/2011 1:00  6.016491\n",
       "3 1/14/2011 2:00  5.205518\n",
       "4 1/14/2011 3:00  6.274910\n",
       "5 1/14/2011 5:00 11.309892\n",
       "6 1/14/2011 6:00 37.987898"
      ]
     },
     "metadata": {},
     "output_type": "display_data"
    }
   ],
   "source": [
    "# check the data we need to submit\n",
    "head(to_submit)"
   ]
  },
  {
   "cell_type": "code",
   "execution_count": 33,
   "id": "1b194f74",
   "metadata": {
    "execution": {
     "iopub.execute_input": "2022-03-24T17:53:24.603077Z",
     "iopub.status.busy": "2022-03-24T17:53:24.601574Z",
     "iopub.status.idle": "2022-03-24T17:53:24.625489Z",
     "shell.execute_reply": "2022-03-24T17:53:24.623955Z"
    },
    "papermill": {
     "duration": 0.176955,
     "end_time": "2022-03-24T17:53:24.625656",
     "exception": false,
     "start_time": "2022-03-24T17:53:24.448701",
     "status": "completed"
    },
    "tags": []
   },
   "outputs": [],
   "source": [
    "# write the df to csv file\n",
    "write.table(to_submit,\"./submission.csv\", row.names = FALSE, sep = ',')"
   ]
  },
  {
   "cell_type": "code",
   "execution_count": null,
   "id": "9990bfba",
   "metadata": {
    "papermill": {
     "duration": 0.149914,
     "end_time": "2022-03-24T17:53:24.926454",
     "exception": false,
     "start_time": "2022-03-24T17:53:24.776540",
     "status": "completed"
    },
    "tags": []
   },
   "outputs": [],
   "source": []
  }
 ],
 "metadata": {
  "kernelspec": {
   "display_name": "R",
   "language": "R",
   "name": "ir"
  },
  "language_info": {
   "codemirror_mode": "r",
   "file_extension": ".r",
   "mimetype": "text/x-r-source",
   "name": "R",
   "pygments_lexer": "r",
   "version": "4.0.5"
  },
  "papermill": {
   "default_parameters": {},
   "duration": 42.127467,
   "end_time": "2022-03-24T17:53:25.188597",
   "environment_variables": {},
   "exception": null,
   "input_path": "__notebook__.ipynb",
   "output_path": "__notebook__.ipynb",
   "parameters": {},
   "start_time": "2022-03-24T17:52:43.061130",
   "version": "2.3.3"
  }
 },
 "nbformat": 4,
 "nbformat_minor": 5
}
